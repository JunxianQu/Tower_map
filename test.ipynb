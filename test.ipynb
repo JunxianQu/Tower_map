{
 "cells": [
  {
   "cell_type": "code",
   "execution_count": 1,
   "metadata": {
    "collapsed": true,
    "pycharm": {
     "name": "#%%\n"
    }
   },
   "outputs": [],
   "source": [
    "from TowerMap import *\n",
    "graph = [['1', '1', '1', '1', '1', '1', '1', '1', '1'],\n",
    "         ['1', 'H', '0', 'M', '0', '1', 'c', 'c', '1'],\n",
    "         ['1', '0', 'c', '1', 'c', '1', 'c', 'c', '1'],\n",
    "         ['1', '1', 'c', '1', 'c', '0', 'M', '1', '1'],\n",
    "         ['1', '0', '0', '1', '0', '1', '0', 'c', '1'],\n",
    "         ['1', '0', '1', '1', 'M', '1', '1', '1', '1'],\n",
    "         ['1', 'M', '0', '0', '0', 'M', '0', 'c', 'E'],\n",
    "         ['1', 'S', '0', '0', '1', 'Z', '1', '0', '1'],\n",
    "         ['1', '1', '1', '1', '1', '1', '1', '1', '1']]\n",
    "tm = TowerMap(graph, 1, 1)"
   ]
  },
  {
   "cell_type": "code",
   "execution_count": 2,
   "outputs": [],
   "source": [
    "cache, cost = tm.dijkstra()"
   ],
   "metadata": {
    "collapsed": false,
    "pycharm": {
     "name": "#%%\n"
    }
   }
  },
  {
   "cell_type": "code",
   "execution_count": 3,
   "outputs": [
    {
     "data": {
      "text/plain": "{103: key: 103, value: M, tier: 1, 304: key: 304, value: c, tier: 3}"
     },
     "execution_count": 3,
     "metadata": {},
     "output_type": "execute_result"
    }
   ],
   "source": [
    "tm.node_set[204].next"
   ],
   "metadata": {
    "collapsed": false,
    "pycharm": {
     "name": "#%%\n"
    }
   }
  },
  {
   "cell_type": "code",
   "execution_count": 4,
   "outputs": [
    {
     "name": "stdout",
     "output_type": "stream",
     "text": [
      "fight with 103, M, hero health:100\n",
      "get coin at 202\n",
      "get coin at 204\n",
      "get coin at 302\n",
      "get coin at 304\n",
      "fight with 306, M, hero health:112\n",
      "get coin at 206\n",
      "get coin at 407\n",
      "get coin at 106\n",
      "get coin at 207\n",
      "get coin at 107\n",
      "fight with 601, M, hero health:128\n",
      "fight with 605, M, hero health:124\n",
      "get coin at 607\n",
      "fight with 705, Z, hero health:124\n"
     ]
    },
    {
     "data": {
      "text/plain": "True"
     },
     "execution_count": 4,
     "metadata": {},
     "output_type": "execute_result"
    }
   ],
   "source": [
    "simulation(tm)"
   ],
   "metadata": {
    "collapsed": false,
    "pycharm": {
     "name": "#%%\n"
    }
   }
  }
 ],
 "metadata": {
  "kernelspec": {
   "display_name": "Python 3",
   "language": "python",
   "name": "python3"
  },
  "language_info": {
   "codemirror_mode": {
    "name": "ipython",
    "version": 2
   },
   "file_extension": ".py",
   "mimetype": "text/x-python",
   "name": "python",
   "nbconvert_exporter": "python",
   "pygments_lexer": "ipython2",
   "version": "2.7.6"
  }
 },
 "nbformat": 4,
 "nbformat_minor": 0
}